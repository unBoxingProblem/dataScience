{
 "cells": [
  {
   "cell_type": "markdown",
   "id": "cf0d869e-85d8-444f-9c2b-a8a0cb17a4fe",
   "metadata": {},
   "source": [
    "# Data Science Tools and Ecosystems"
   ]
  },
  {
   "cell_type": "markdown",
   "id": "6e140151-334c-4e75-9976-ac4d84244d9a",
   "metadata": {},
   "source": [
    " In this notebook, Data Science Tools and Ecosystem are summarized."
   ]
  },
  {
   "cell_type": "markdown",
   "id": "8ba5d567-4c94-4b1b-b0f0-3a228f58d8dd",
   "metadata": {},
   "source": [
    "**Objectives:**\n",
    "\n",
    "* List popular languages for Data Science.\n",
    "* Identify commonly used libraries in Data Science.\n",
    "* Understand data science tools and environments.\n",
    "* Perform basic arithmetic operations in code cells.\n"
   ]
  },
  {
   "cell_type": "markdown",
   "id": "8cee7cb3-6f35-43a0-9a76-e331164d76f9",
   "metadata": {},
   "source": [
    " Some of the popular languages that Data Scientists use are:\n",
    "\n",
    " \n",
    " 1.Python\n",
    "\n",
    " \n",
    " 2.R\n",
    " \n",
    " 3.SQl\n",
    " "
   ]
  },
  {
   "cell_type": "markdown",
   "id": "680593ca-bdcf-4d92-bf4a-e8edceb77c7f",
   "metadata": {},
   "source": [
    "Some of the commonly used libraries used by Data Scientists include:\n",
    "\n",
    "1.scikit learn\n",
    "\n",
    "2.pandas\n",
    "\n",
    "3.Numpy\n"
   ]
  },
  {
   "cell_type": "markdown",
   "id": "32efdf4d-bdf1-452e-8c9d-d70d620bfc90",
   "metadata": {},
   "source": [
    "| Data Science Tools |\n",
    "|--------------------|\n",
    "| Jupyter Notebooks  |\n",
    "| RStudio            |\n",
    "| Apache Hadoop      |"
   ]
  },
  {
   "cell_type": "markdown",
   "id": "8e52888a-e53c-4350-9d88-64f7c218b11e",
   "metadata": {},
   "source": [
    "Below are a few examples of evaluating arithmetic expressions in Python"
   ]
  },
  {
   "cell_type": "code",
   "execution_count": 2,
   "id": "f561b2ae-43f4-45e4-b9aa-f50d38f1d4f0",
   "metadata": {},
   "outputs": [
    {
     "data": {
      "text/plain": [
       "17"
      ]
     },
     "execution_count": 2,
     "metadata": {},
     "output_type": "execute_result"
    }
   ],
   "source": [
    "# This a simple arithmetic expression to mutiply then add integers.\n",
    "(3*4)+5"
   ]
  },
  {
   "cell_type": "code",
   "execution_count": 4,
   "id": "5b5374bb-9681-47d7-b97e-96f72fe4d12b",
   "metadata": {},
   "outputs": [
    {
     "name": "stdout",
     "output_type": "stream",
     "text": [
      "3.3333333333333335\n"
     ]
    }
   ],
   "source": [
    "# This will convert 200 minutes to hours by diving by 60.\n",
    "\n",
    "minutes = 200\n",
    "hours = minutes / 60\n",
    "print(hours)"
   ]
  },
  {
   "cell_type": "markdown",
   "id": "6bef160f-eed8-4fe4-9d98-dd0517fb7e35",
   "metadata": {},
   "source": [
    "## Lakshmi Holla\n",
    "## Niveditha Pandith\n",
    "Saurabh Singh"
   ]
  },
  {
   "cell_type": "code",
   "execution_count": null,
   "id": "871df58d-3da0-4e49-9433-00d108fe9325",
   "metadata": {},
   "outputs": [],
   "source": []
  }
 ],
 "metadata": {
  "kernelspec": {
   "display_name": "Python 3 (ipykernel)",
   "language": "python",
   "name": "python3"
  },
  "language_info": {
   "codemirror_mode": {
    "name": "ipython",
    "version": 3
   },
   "file_extension": ".py",
   "mimetype": "text/x-python",
   "name": "python",
   "nbconvert_exporter": "python",
   "pygments_lexer": "ipython3",
   "version": "3.11.5"
  }
 },
 "nbformat": 4,
 "nbformat_minor": 5
}
